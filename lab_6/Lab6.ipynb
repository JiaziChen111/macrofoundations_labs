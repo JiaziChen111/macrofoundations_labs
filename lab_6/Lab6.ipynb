{
 "cells": [
  {
   "cell_type": "code",
   "execution_count": 2,
   "metadata": {
    "collapsed": false
   },
   "outputs": [],
   "source": [
    "#Lab Report 6: Options & Volatility\n",
    "%matplotlib inline\n",
    "\n",
    "import math as mt\n",
    "import numpy as np\n",
    "import sympy as sym\n",
    "from scipy.stats import norm\n",
    "import matplotlib.pyplot as plt"
   ]
  },
  {
   "cell_type": "code",
   "execution_count": 3,
   "metadata": {
    "collapsed": false
   },
   "outputs": [],
   "source": [
    "#Question 1\n",
    "c = 5 #coupon\n",
    "ymin = 0.0 \n",
    "ymax = 0.1\n",
    "ystep = .01\n",
    "y = np.arange(ymin,ymax+ystep,ystep)\n",
    "fx = c/(1+y)+c/(1+y)**2+c/(1+y)**3+c/(1+y)**4+(c+100)/(1+y)**5;"
   ]
  },
  {
   "cell_type": "code",
   "execution_count": 4,
   "metadata": {
    "collapsed": false
   },
   "outputs": [
    {
     "data": {
      "image/png": "[encoded data removed]",
      "text/plain": [
       "<matplotlib.figure.Figure at 0x110fca8d0>"
      ]
     },
     "metadata": {},
     "output_type": "display_data"
    }
   ],
   "source": [
    "plt.plot(y,fx)\n",
    "plt.title('Bond price as a function of yield')\n",
    "plt.ylabel('Price')\n",
    "plt.xlabel('Yield')\n",
    "plt.show()"
   ]
  },
  {
   "cell_type": "code",
   "execution_count": 5,
   "metadata": {
    "collapsed": false
   },
   "outputs": [
    {
     "name": "stdout",
     "output_type": "stream",
     "text": [
      "number of iterations = 99\n",
      "difference between x's in bisection = 0.000000\n",
      "difference between f(x)'s in bisection = 102.000000\n",
      "the yield of a bond with cashflow = 5 and a price of 102.000000 is x = 0.045439\n",
      "\n",
      "to double check ... \n",
      "f_check with yield = 0.045439 is price = 102.000000\n"
     ]
    }
   ],
   "source": [
    "#Bisection\n",
    "tol = 1.e-8\n",
    "itr = 100 #number of iterations\n",
    "\n",
    "x_lo = 0\n",
    "x_hi = 0.1\n",
    "f_lo = c/(1+x_lo)+c/(1+x_lo)**2+c/(1+x_lo)**3+c/(1+x_lo)**4+(c+100)/(1+x_lo)**5\n",
    "f_hi = c/(1+x_hi)+c/(1+x_hi)**2+c/(1+x_hi)**3+c/(1+x_hi)**4+(c+100)/(1+x_hi)**5\n",
    "price = 102\n",
    "\n",
    "#if mt.copysign(1,f_lo) == mt.copysign(1,f_hi):\n",
    "#    print \"*** Error: solution is not bracketed\" \n",
    "\n",
    "for x in np.arange(1,itr):\n",
    "    x_new = (x_lo+x_hi)/2\n",
    "    f_new = c/(1+x_new)+c/(1+x_new)**2+c/(1+x_new)**3+c/(1+x_new)**4+(c+100)/(1+x_new)**5\n",
    "    diff_x = abs(x_lo-x_hi)\n",
    "    #print \"diff_x\"\n",
    "    #print diff_x\n",
    "    diff_f = abs(f_new)\n",
    "    if diff_f < price:\n",
    "        x_hi = x_new\n",
    "        f_hi = f_new\n",
    "    elif price+1 < diff_f < price+1:\n",
    "        print x\n",
    "        break\n",
    "    else:\n",
    "        x_lo = x_new\n",
    "        f_lo = f_new\n",
    "\n",
    "print \"number of iterations = %d\" %x\n",
    "print \"difference between x's in bisection = %f\"%diff_x\n",
    "print \"difference between f(x)'s in bisection = %f\"%diff_f\n",
    "#print \"margin of error for x = %f\" %diff_x \n",
    "#err_fx = abs(price - diff_f)\n",
    "#print \"margin of error for f(x) = %f\" %err_fx\n",
    "print \"the yield of a bond with cashflow = %d and a price of %f is x = %f\" %(c, f_new, x_new)\n",
    "\n",
    "print \"\\nto double check ... \"\n",
    "f_check = c/(1+x_new)+c/(1+x_new)**2+c/(1+x_new)**3+c/(1+x_new)**4+(c+100)/(1+x_new)**5;\n",
    "print \"f_check with yield = %f is price = %f\" %(x_new, f_check)"
   ]
  },
  {
   "cell_type": "code",
   "execution_count": 7,
   "metadata": {
    "collapsed": false
   },
   "outputs": [
    {
     "name": "stdout",
     "output_type": "stream",
     "text": [
      "The price of a call option given this information is 7.950000\n",
      "Check: Buy Call - Sell Put + PV of Strike = 7.950000 - 2.000000 + 94.050000 = 100.000000\n"
     ]
    }
   ],
   "source": [
    "#Question 2\n",
    "st = 100\n",
    "k = 95\n",
    "qtp = 2\n",
    "qt1 = 0.99\n",
    "qtc = st+qtp-qt1*k\n",
    "print \"The price of a call option given this information is %f\" %qtc\n",
    "st_check = qtc-qtp+qt1*k\n",
    "print \"Check: Buy Call - Sell Put + PV of Strike = %f - %f + %f = %f\" %(qtc, qtp, qt1*k,st_check)"
   ]
  },
  {
   "cell_type": "code",
   "execution_count": 11,
   "metadata": {
    "collapsed": false
   },
   "outputs": [
    {
     "name": "stdout",
     "output_type": "stream",
     "text": [
      "The price of a put option at sigma = 0.10 is 0.640324\n",
      "The price of a put option at sigma = 0.20 is 5.302776\n",
      "Check: Buy Call - Sell Put + PV of Strike = 28.640324 - 0.640324 + 180.000000 = 208.000000\n",
      "Check: Buy Call - Sell Put + PV of Strike = 33.302776 - 5.302776 + 180.000000 = 208.000000\n"
     ]
    }
   ],
   "source": [
    "#Question 3\n",
    "st = 208\n",
    "qt1 = 1.00\n",
    "tau = 1\n",
    "\n",
    "#a)\n",
    "k = 180\n",
    "sigma1 = 0.10\n",
    "sigma2 = 0.20\n",
    "d1 = (mt.log(st/(qt1*k))+tau*sigma1**2/2)/(tau**(1/2)*sigma1)\n",
    "d2 = (mt.log(st/(qt1*k))+tau*sigma2**2/2)/(tau**(1/2)*sigma2)\n",
    "\n",
    "qtc1 = st*norm.cdf(d1) - qt1*k*norm.cdf(d1-tau**(1/2)*sigma1)\n",
    "qtc2 = st*norm.cdf(d2) - qt1*k*norm.cdf(d2-tau**(1/2)*sigma2)\n",
    "\n",
    "qtp1 = qt1*k*norm.cdf(-d1+tau**(1/2)*sigma1) - st*norm.cdf(-d1)\n",
    "qtp2 = qt1*k*norm.cdf(-d2+tau**(1/2)*sigma2) - st*norm.cdf(-d2)\n",
    "\n",
    "print \"The price of a put option at sigma = 0.10 is %f\" %qtp1\n",
    "print \"The price of a put option at sigma = 0.20 is %f\" %qtp2\n",
    "st_check1 = qtc1 - qtp1 + qt1*k\n",
    "st_check2 = qtc2 - qtp2 + qt1*k\n",
    "print \"Check: Buy Call - Sell Put + PV of Strike = %f - %f + %f = %f\" %(qtc1, qtp1, qt1*k,st_check1)\n",
    "print \"Check: Buy Call - Sell Put + PV of Strike = %f - %f + %f = %f\" %(qtc2, qtp2, qt1*k,st_check2)"
   ]
  },
  {
   "cell_type": "code",
   "execution_count": 9,
   "metadata": {
    "collapsed": false
   },
   "outputs": [
    {
     "data": {
      "image/png": "[encoded data removed]",
      "text/plain": [
       "<matplotlib.figure.Figure at 0x1066fc750>"
      ]
     },
     "metadata": {},
     "output_type": "display_data"
    }
   ],
   "source": [
    "#b)\n",
    "sigmin = 0.01\n",
    "sigmax = 0.30\n",
    "step = 0.01\n",
    "\n",
    "s = np.arange(sigmin,sigmax+step,step)\n",
    "d = (mt.log(st/(qt1*k))+tau*s**2/2)/(tau**(1/2)*s)\n",
    "qtp = qt1*k*norm.cdf(-d+tau**(1/2)*s) - st*norm.cdf(-d)\n",
    "\n",
    "plt.plot(s,qtp)\n",
    "plt.title('Put option payoff as a function of volatility')\n",
    "plt.ylabel('Payoff')\n",
    "plt.xlabel('Volatility')\n",
    "plt.show()"
   ]
  },
  {
   "cell_type": "code",
   "execution_count": null,
   "metadata": {
    "collapsed": true
   },
   "outputs": [],
   "source": []
  }
 ],
 "metadata": {
  "kernelspec": {
   "display_name": "Python 2",
   "language": "python",
   "name": "python2"
  },
  "language_info": {
   "codemirror_mode": {
    "name": "ipython",
    "version": 2
   },
   "file_extension": ".py",
   "mimetype": "text/x-python",
   "name": "python",
   "nbconvert_exporter": "python",
   "pygments_lexer": "ipython2",
   "version": "2.7.10"
  }
 },
 "nbformat": 4,
 "nbformat_minor": 0
}
