{
 "cells": [
  {
   "cell_type": "code",
   "execution_count": 92,
   "metadata": {
    "collapsed": false
   },
   "outputs": [],
   "source": [
    "%matplotlib inline\n",
    "\n",
    "import math\n",
    "import numpy as np\n",
    "import matplotlib.pyplot as plt\n",
    "import matplotlib.mlab as mlab"
   ]
  },
  {
   "cell_type": "code",
   "execution_count": 141,
   "metadata": {
    "collapsed": false
   },
   "outputs": [],
   "source": [
    "beta = 0.99\n",
    "alpha = 10\n",
    "omega = 0.2\n",
    "theta = 1\n",
    "delta = 2"
   ]
  },
  {
   "cell_type": "code",
   "execution_count": 138,
   "metadata": {
    "collapsed": false
   },
   "outputs": [],
   "source": [
    "#part b)\n",
    "\n",
    "zmax = 6\n",
    "dz = 0.1\n",
    "z = np.arange(-zmax,zmax,dz)\n",
    "\n",
    "p1 = []\n",
    "p2 = []\n",
    "p = []\n",
    "\n",
    "for state in z:\n",
    "    temp_p = exp(-state**2/2)*0.1/sqrt(2*math.pi)\n",
    "    p1.append(temp_p)\n",
    "\n",
    "#all values of p1 are stored in the p1 list\n",
    "\n",
    "for state in z:\n",
    "    temp_p = exp(-(state-theta)**2/(2*delta))*0.1/sqrt(2*math.pi*delta)\n",
    "    p2.append(temp_p)\n",
    "\n",
    "p_temp1 = [x*(1-omega) for x in p1]\n",
    "p_temp2 = [x*omega for x in p2]\n",
    "\n",
    "p = p_temp1+p_temp2\n",
    "\n",
    "#print p1\n",
    "#p1 = exp(-z**2/2)*dz/sqrt(2*math.pi)\n",
    "#p2 = exp(-(z-theta)**2/(2*delta))*dz/sqrt(2*math.pi*delta)\n",
    "#p = (1-omega)*p1 + omega*p2"
   ]
  },
  {
   "cell_type": "code",
   "execution_count": 140,
   "metadata": {
    "collapsed": false
   },
   "outputs": [],
   "source": [
    "#How to plot normal dist\n",
    "#mean = 0\n",
    "#variance = 1\n",
    "#sigma = math.sqrt(variance)\n",
    "#x = np.linspace(-3,3,100)\n",
    "#plt.plot(x,mlab.normpdf(x,mean,sigma))\n",
    "\n",
    "#plt.show()"
   ]
  },
  {
   "cell_type": "code",
   "execution_count": 110,
   "metadata": {
    "collapsed": false
   },
   "outputs": [],
   "source": [
    "#mean = 0\n",
    "#variance = 1\n",
    "#sigma = math.sqrt(variance)\n",
    "#plt.plot(x,mlab.normpdf(p1,mean,sigma))\n",
    "\n",
    "#plt.show"
   ]
  },
  {
   "cell_type": "code",
   "execution_count": 142,
   "metadata": {
    "collapsed": false
   },
   "outputs": [
    {
     "name": "stdout",
     "output_type": "stream",
     "text": [
      "sigma = \n",
      "0.0300111\n",
      "mu = \n",
      "0.01399\n",
      "explog = \n",
      "0.01999222\n",
      "varlogg = \n",
      "0.00122490592757\n"
     ]
    }
   ],
   "source": [
    "#loggbar = sum(p*logg)\n",
    "#stdlogg = sqrt(sum(p*(logg-loggbar)**2))\n",
    "#skewlogg = sum(p*(logg-loggbar)**3)/stdlogg**3\n",
    "#xkurlogg = sum(p*(logg-loggbar)**4)/stdlogg**4 - 3\n",
    "\n",
    "#part c)\n",
    "\n",
    "\n",
    "sigma = 0\n",
    "for sig in np.arange(0,2,.0000001):\n",
    "    varlogg = sig**2*((1-omega)+(omega*delta)+omega*(1-omega)*theta**2)\n",
    "    if .0012249 < varlogg < 0.0012251:\n",
    "        sigma = sig\n",
    "        print \"sigma = \"\n",
    "        print sigma\n",
    "        break\n",
    "\n",
    "mu = 0\n",
    "for m in np.arange(0,2,.00001):\n",
    "    explogg = m + omega*sigma*theta\n",
    "    if .01999 < explogg < 0.2001:\n",
    "        mu = m\n",
    "        print \"mu = \"\n",
    "        print mu\n",
    "        break\n",
    "        \n",
    "#logg = mu + sigma*z\n",
    "explog = mu + omega*sigma*theta\n",
    "print \"explog = \"\n",
    "print explog\n",
    "\n",
    "varlogg = sigma**2*((1-omega)+omega*delta+omega*(1-omega)*theta**2)\n",
    "print \"varlogg = \"\n",
    "print varlogg"
   ]
  },
  {
   "cell_type": "code",
   "execution_count": 126,
   "metadata": {
    "collapsed": false
   },
   "outputs": [
    {
     "name": "stdout",
     "output_type": "stream",
     "text": [
      "-0.00468156508749\n"
     ]
    }
   ],
   "source": [
    "loggbar = 0\n",
    "for x1 in z:\n",
    "    logg = mu * sigma*x1\n",
    "    for x2 in p:\n",
    "        loggbar = loggbar + (x2*logg)\n",
    "        \n",
    "print loggbar    "
   ]
  },
  {
   "cell_type": "code",
   "execution_count": 50,
   "metadata": {
    "collapsed": false
   },
   "outputs": [],
   "source": [
    "#part d)\n",
    "#kernel = beta*exp(-alpha*logg) = beta*exp(-alpha*(mu + sigma*z))\n",
    "#q1 = E(m) = each value p * each value in kernel\n",
    "#r1 = 1/q1"
   ]
  },
  {
   "cell_type": "code",
   "execution_count": 51,
   "metadata": {
    "collapsed": true
   },
   "outputs": [],
   "source": [
    "#part e)\n",
    "#dz = gz**3\n",
    "#qe = E(md) = sum(p*kernel*dz)\n",
    "#E(re) = How to do expected return if you have -zmax,zmax,dz states? How to know the weights?\n",
    "#E(re-r1) = "
   ]
  },
  {
   "cell_type": "code",
   "execution_count": 52,
   "metadata": {
    "collapsed": true
   },
   "outputs": [],
   "source": [
    "#part f) \n",
    "#mu = \n",
    "#sigma = \n",
    "#r1 =\n",
    "#qe =\n",
    "#E(re) =\n",
    "#E(re-r1)= "
   ]
  },
  {
   "cell_type": "code",
   "execution_count": null,
   "metadata": {
    "collapsed": true
   },
   "outputs": [],
   "source": []
  }
 ],
 "metadata": {
  "kernelspec": {
   "display_name": "Python 2",
   "language": "python",
   "name": "python2"
  },
  "language_info": {
   "codemirror_mode": {
    "name": "ipython",
    "version": 2
   },
   "file_extension": ".py",
   "mimetype": "text/x-python",
   "name": "python",
   "nbconvert_exporter": "python",
   "pygments_lexer": "ipython2",
   "version": "2.7.10"
  }
 },
 "nbformat": 4,
 "nbformat_minor": 0
}
