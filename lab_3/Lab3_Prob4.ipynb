{
 "cells": [
  {
   "cell_type": "code",
   "execution_count": 4,
   "metadata": {
    "collapsed": false
   },
   "outputs": [],
   "source": [
    "import numpy as np"
   ]
  },
  {
   "cell_type": "code",
   "execution_count": 40,
   "metadata": {
    "collapsed": false
   },
   "outputs": [
    {
     "name": "stdout",
     "output_type": "stream",
     "text": [
      "Portfolio shares for alpha equal to 2\n",
      "-2499999.97709\n",
      "5.499\n"
     ]
    },
    {
     "name": "stderr",
     "output_type": "stream",
     "text": [
      "/Users/michaelcai/anaconda/lib/python2.7/site-packages/IPython/kernel/__main__.py:12: RuntimeWarning: divide by zero encountered in double_scalars\n"
     ]
    }
   ],
   "source": [
    "alpha = float(2.0)\n",
    "beta = float(0.9)\n",
    "re_1 = float(0.9)\n",
    "re_2 = float(1.5)\n",
    "r1 = float(1.1)\n",
    "\n",
    "print \"Portfolio shares for alpha equal to 2\"\n",
    "\n",
    "for x in np.arange(-2.75,5.5,.001):\n",
    "    foc2_ans = 5.5\n",
    "    a = 0\n",
    "    foc2 = 0.5*((1-x)*r1+x*re_1)**(-alpha)*(re_1-r1) +0.5*((1-x)*r1+x*re_2)**(-alpha)*(re_2-r1)\n",
    "    if foc2 < foc2_ans:\n",
    "        foc2_ans = foc2\n",
    "        a = x\n",
    "\n",
    "print foc2_ans\n",
    "print x"
   ]
  },
  {
   "cell_type": "code",
   "execution_count": null,
   "metadata": {
    "collapsed": true
   },
   "outputs": [],
   "source": []
  }
 ],
 "metadata": {
  "kernelspec": {
   "display_name": "Python 2",
   "language": "python",
   "name": "python2"
  },
  "language_info": {
   "codemirror_mode": {
    "name": "ipython",
    "version": 2
   },
   "file_extension": ".py",
   "mimetype": "text/x-python",
   "name": "python",
   "nbconvert_exporter": "python",
   "pygments_lexer": "ipython2",
   "version": "2.7.10"
  }
 },
 "nbformat": 4,
 "nbformat_minor": 0
}
